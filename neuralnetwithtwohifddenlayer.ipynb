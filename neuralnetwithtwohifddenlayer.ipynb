{
 "cells": [
  {
   "cell_type": "code",
   "execution_count": 1,
   "metadata": {
    "collapsed": true
   },
   "outputs": [],
   "source": [
    "import numpy as np"
   ]
  },
  {
   "cell_type": "code",
   "execution_count": 2,
   "metadata": {
    "collapsed": true
   },
   "outputs": [],
   "source": [
    "# Step 1 Collect Data\n",
    "x = np.array([[0,0,1],\n",
    "            [0,1,1],\n",
    "            [1,0,1],\n",
    "            [1,1,1]])\n",
    "                \n",
    "y = np.array([[0],\n",
    "            [1],\n",
    "            [1],\n",
    "            [0]])\n"
   ]
  },
  {
   "cell_type": "code",
   "execution_count": 3,
   "metadata": {
    "collapsed": false
   },
   "outputs": [
    {
     "name": "stdout",
     "output_type": "stream",
     "text": [
      "random weights\n",
      "[[ 0.84350268 -0.22236604  0.04724977 -0.0316298 ]\n",
      " [ 0.48609715 -0.22162039  0.65487515 -0.17228443]\n",
      " [ 0.39431567  0.25777402  0.80779165  0.64330415]] [[-0.79576949 -0.9709655   0.05784039 -0.48162612]\n",
      " [-0.39892797  0.59764663 -0.58268014 -0.74006354]\n",
      " [ 0.4134771  -0.22070293 -0.32593475 -0.49160432]\n",
      " [-0.70142994 -0.73302049  0.29863656  0.64051761]] [[-0.75387543]\n",
      " [ 0.57203812]\n",
      " [ 0.86371382]\n",
      " [ 0.57877475]]\n"
     ]
    }
   ],
   "source": [
    "#Step 2 build model\n",
    "\n",
    "num_epochs = 100\n",
    "\n",
    "#initialize weights\n",
    "syn0 = 2*np.random.random((3,4)) - 1\n",
    "syn1 = 2*np.random.random((4,4)) - 1\n",
    "syn2 = 2*np.random.random((4,1)) - 1\n",
    "print \"random weights\"\n",
    "print syn0,syn1,syn2"
   ]
  },
  {
   "cell_type": "code",
   "execution_count": 4,
   "metadata": {
    "collapsed": true
   },
   "outputs": [],
   "source": [
    "def sigmoide_and_its_derivative(x,deriv=False):\n",
    "    if(deriv==True):\n",
    "        return x*(1-x)\n",
    "    return 1/(1+np.exp(-x))"
   ]
  },
  {
   "cell_type": "code",
   "execution_count": 11,
   "metadata": {
    "collapsed": false
   },
   "outputs": [
    {
     "name": "stdout",
     "output_type": "stream",
     "text": [
      "y--------------k3\n",
      "[[ 0.62493371]\n",
      " [ 0.61719119]\n",
      " [ 0.62366785]\n",
      " [ 0.61669885]]\n"
     ]
    }
   ],
   "source": [
    "for m in xrange(num_epochs):\n",
    "    k0 = x\n",
    "    k1 = sigmoide_and_its_derivative(np.dot(k0, syn0))\n",
    "    k2 = sigmoide_and_its_derivative(np.dot(k1, syn1))\n",
    "    k3 = sigmoide_and_its_derivative(np.dot(k2, syn2))\n",
    "    \n",
    "    print \"y--------------k3\"\n",
    "    print k3\n",
    "    output_error = y-k3\n",
    "    delta3 = output_error*(sigmoide_and_its_derivative(k3,deriv=True))\n",
    "    output_error2 = delta3.dot(syn2.T)\n",
    "    delta2 = output_error2= delta3*(sigmoide_and_its_derivative(k2,deriv=True))\n",
    "    output_error1 = delta2.dot(syn1.T)\n",
    "    #print \"k1_error\"\n",
    "    #print k1    \n",
    "    delta1 = output_error1 *(sigmoide_and_its_derivative(k1,deriv=True))\n",
    "    syn2 =syn2+ k1.T.dot(delta3)\n",
    "    syn1 =syn1+ k1.T.dot(delta2)\n",
    "    syn0 =syn0+ k0.T.dot(delta1)\n",
    "    "
   ]
  },
  {
   "cell_type": "code",
   "execution_count": null,
   "metadata": {
    "collapsed": true
   },
   "outputs": [],
   "source": []
  }
 ],
 "metadata": {
  "kernelspec": {
   "display_name": "Python 2",
   "language": "python",
   "name": "python2"
  },
  "language_info": {
   "codemirror_mode": {
    "name": "ipython",
    "version": 2
   },
   "file_extension": ".py",
   "mimetype": "text/x-python",
   "name": "python",
   "nbconvert_exporter": "python",
   "pygments_lexer": "ipython2",
   "version": "2.7.12"
  }
 },
 "nbformat": 4,
 "nbformat_minor": 1
}
