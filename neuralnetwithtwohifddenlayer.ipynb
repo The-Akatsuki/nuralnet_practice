{
 "cells": [
  {
   "cell_type": "code",
   "execution_count": 78,
   "metadata": {
    "collapsed": true
   },
   "outputs": [],
   "source": [
    "import numpy as np"
   ]
  },
  {
   "cell_type": "code",
   "execution_count": 79,
   "metadata": {
    "collapsed": true
   },
   "outputs": [],
   "source": [
    "# Step 1 Collect Data\n",
    "x = np.array([[0,0,1],\n",
    "            [0,1,1],\n",
    "            [1,0,1],\n",
    "            [1,1,1]])\n",
    "                \n",
    "y = np.array([[0],\n",
    "            [1],\n",
    "            [1],\n",
    "            [0]])\n"
   ]
  },
  {
   "cell_type": "code",
   "execution_count": 80,
   "metadata": {
    "collapsed": true
   },
   "outputs": [],
   "source": [
    "from sklearn.datasets import load_iris\n",
    "data= load_iris()\n",
    "X=data.data\n",
    "y= data.target\n",
    "from sklearn.model_selection import train_test_split"
   ]
  },
  {
   "cell_type": "code",
   "execution_count": 81,
   "metadata": {
    "collapsed": false
   },
   "outputs": [],
   "source": [
    "X_train, X_test, y_train, y_test = train_test_split(X, y, test_size=0.33, random_state=42)"
   ]
  },
  {
   "cell_type": "code",
   "execution_count": 108,
   "metadata": {
    "collapsed": false
   },
   "outputs": [
    {
     "ename": "TypeError",
     "evalue": "list indices must be integers, not tuple",
     "output_type": "error",
     "traceback": [
      "\u001b[1;31m---------------------------------------------------------------------------\u001b[0m",
      "\u001b[1;31mTypeError\u001b[0m                                 Traceback (most recent call last)",
      "\u001b[1;32m<ipython-input-108-341db73f6d53>\u001b[0m in \u001b[0;36m<module>\u001b[1;34m()\u001b[0m\n\u001b[0;32m     16\u001b[0m \u001b[1;32mfor\u001b[0m \u001b[0ms\u001b[0m \u001b[1;32min\u001b[0m \u001b[0my\u001b[0m\u001b[1;33m:\u001b[0m\u001b[1;33m\u001b[0m\u001b[0m\n\u001b[0;32m     17\u001b[0m     \u001b[0mnew_y\u001b[0m\u001b[1;33m.\u001b[0m\u001b[0mappend\u001b[0m\u001b[1;33m(\u001b[0m\u001b[1;33m[\u001b[0m\u001b[0ms\u001b[0m\u001b[1;33m]\u001b[0m\u001b[1;33m)\u001b[0m\u001b[1;33m\u001b[0m\u001b[0m\n\u001b[1;32m---> 18\u001b[1;33m \u001b[0mnew_y\u001b[0m\u001b[1;33m=\u001b[0m\u001b[0mnew_y\u001b[0m\u001b[1;33m[\u001b[0m\u001b[1;36m10\u001b[0m\u001b[1;33m,\u001b[0m\u001b[1;33m:\u001b[0m\u001b[1;33m]\u001b[0m\u001b[1;33m\u001b[0m\u001b[0m\n\u001b[0m\u001b[0;32m     19\u001b[0m \u001b[1;32mprint\u001b[0m \u001b[0mnew_y\u001b[0m\u001b[1;33m\u001b[0m\u001b[0m\n\u001b[0;32m     20\u001b[0m \u001b[1;32mprint\u001b[0m \u001b[0my\u001b[0m\u001b[1;33m\u001b[0m\u001b[0m\n",
      "\u001b[1;31mTypeError\u001b[0m: list indices must be integers, not tuple"
     ]
    }
   ],
   "source": [
    "# output_list =[]\n",
    "# for s in y_train:\n",
    "#     if s==0:\n",
    "#         output_list.append([0,0,1])\n",
    "#     if s==1:\n",
    "#         output_list.append([0,1,0])\n",
    "#     if s==2:\n",
    "#         output_list.append([1,0,0])\n",
    "# y = np.array(output_list)\n",
    "# print X_train\n",
    "# x=X_train\n",
    "# print y\n",
    "x=X_train[10,:]\n",
    "y=np.where(y_train == 2, 1,0 )\n",
    "# new_y=list()\n",
    "for s in y:\n",
    "    new_y.append([s])\n"
   ]
  },
  {
   "cell_type": "code",
   "execution_count": 115,
   "metadata": {
    "collapsed": false
   },
   "outputs": [
    {
     "name": "stdout",
     "output_type": "stream",
     "text": [
      "[[0]\n",
      " [1]\n",
      " [0]\n",
      " [0]\n",
      " [1]\n",
      " [0]\n",
      " [0]\n",
      " [0]\n",
      " [0]\n",
      " [0]]\n",
      "random weights\n",
      "[[-0.02801788  0.55984202  0.77122498  0.30467337]\n",
      " [ 0.72380544  0.42021526  0.79433855 -0.24377234]\n",
      " [ 0.79351301  0.52595351  0.29989009 -0.11237807]\n",
      " [ 0.75639374 -0.76976532  0.14173921 -0.72400968]] [[-0.34989239  0.11586368  0.72993641  0.33957476]\n",
      " [-0.30912085  0.27362331  0.5743198  -0.63742834]\n",
      " [-0.09060007 -0.11958508  0.77007124 -0.49794748]\n",
      " [-0.11979598  0.49190993  0.89943133  0.67909657]] [[ 0.99077554]\n",
      " [-0.86619421]\n",
      " [-0.15511396]\n",
      " [ 0.2371973 ]]\n",
      "[ 6.3  2.7  4.9  1.8]\n"
     ]
    }
   ],
   "source": [
    "#Step 2 build model\n",
    "y =np.array(new_y)\n",
    "y= y[:10,:]\n",
    "print y\n",
    "num_epochs = 10\n",
    "\n",
    "#initialize weights\n",
    "syn0 = 2*np.random.random((4,4)) - 1\n",
    "syn1 = 2*np.random.random((4,4)) - 1\n",
    "syn2 = 2*np.random.random((4,1)) - 1\n",
    "print \"random weights\"\n",
    "print syn0,syn1,syn2\n",
    "print x"
   ]
  },
  {
   "cell_type": "code",
   "execution_count": 116,
   "metadata": {
    "collapsed": true
   },
   "outputs": [],
   "source": [
    "def sigmoide_and_its_derivative(x,deriv=False):\n",
    "    if(deriv==True):\n",
    "        return x*(1-x)\n",
    "    return 1/(1+np.exp(-x))"
   ]
  },
  {
   "cell_type": "code",
   "execution_count": 117,
   "metadata": {
    "collapsed": false
   },
   "outputs": [
    {
     "name": "stdout",
     "output_type": "stream",
     "text": [
      "[ 0.43189178]\n",
      "[[0]\n",
      " [1]\n",
      " [0]\n",
      " [0]\n",
      " [1]\n",
      " [0]\n",
      " [0]\n",
      " [0]\n",
      " [0]\n",
      " [0]]\n",
      "Error:0.459135067997\n"
     ]
    },
    {
     "ename": "ValueError",
     "evalue": "shapes (4,) and (10,1) not aligned: 4 (dim 0) != 10 (dim 0)",
     "output_type": "error",
     "traceback": [
      "\u001b[1;31m---------------------------------------------------------------------------\u001b[0m",
      "\u001b[1;31mValueError\u001b[0m                                Traceback (most recent call last)",
      "\u001b[1;32m<ipython-input-117-639a4fa5bbd7>\u001b[0m in \u001b[0;36m<module>\u001b[1;34m()\u001b[0m\n\u001b[0;32m     19\u001b[0m     \u001b[1;31m#print k1\u001b[0m\u001b[1;33m\u001b[0m\u001b[1;33m\u001b[0m\u001b[0m\n\u001b[0;32m     20\u001b[0m     \u001b[0mdelta1\u001b[0m \u001b[1;33m=\u001b[0m \u001b[0moutput_error1\u001b[0m \u001b[1;33m*\u001b[0m\u001b[1;33m(\u001b[0m\u001b[0msigmoide_and_its_derivative\u001b[0m\u001b[1;33m(\u001b[0m\u001b[0mk1\u001b[0m\u001b[1;33m,\u001b[0m\u001b[0mderiv\u001b[0m\u001b[1;33m=\u001b[0m\u001b[0mTrue\u001b[0m\u001b[1;33m)\u001b[0m\u001b[1;33m)\u001b[0m\u001b[1;33m\u001b[0m\u001b[0m\n\u001b[1;32m---> 21\u001b[1;33m     \u001b[0msyn2\u001b[0m \u001b[1;33m=\u001b[0m\u001b[0msyn2\u001b[0m\u001b[1;33m+\u001b[0m \u001b[0mk2\u001b[0m\u001b[1;33m.\u001b[0m\u001b[0mT\u001b[0m\u001b[1;33m.\u001b[0m\u001b[0mdot\u001b[0m\u001b[1;33m(\u001b[0m\u001b[0mdelta3\u001b[0m\u001b[1;33m)\u001b[0m\u001b[1;33m\u001b[0m\u001b[0m\n\u001b[0m\u001b[0;32m     22\u001b[0m     \u001b[0msyn1\u001b[0m \u001b[1;33m=\u001b[0m\u001b[0msyn1\u001b[0m\u001b[1;33m+\u001b[0m \u001b[0mk1\u001b[0m\u001b[1;33m.\u001b[0m\u001b[0mT\u001b[0m\u001b[1;33m.\u001b[0m\u001b[0mdot\u001b[0m\u001b[1;33m(\u001b[0m\u001b[0mdelta2\u001b[0m\u001b[1;33m)\u001b[0m\u001b[1;33m\u001b[0m\u001b[0m\n\u001b[0;32m     23\u001b[0m     \u001b[0msyn0\u001b[0m \u001b[1;33m=\u001b[0m\u001b[0msyn0\u001b[0m\u001b[1;33m+\u001b[0m\u001b[0mk0\u001b[0m\u001b[1;33m.\u001b[0m\u001b[0mT\u001b[0m\u001b[1;33m.\u001b[0m\u001b[0mdot\u001b[0m\u001b[1;33m(\u001b[0m\u001b[0mdelta1\u001b[0m\u001b[1;33m)\u001b[0m\u001b[1;33m\u001b[0m\u001b[0m\n",
      "\u001b[1;31mValueError\u001b[0m: shapes (4,) and (10,1) not aligned: 4 (dim 0) != 10 (dim 0)"
     ]
    }
   ],
   "source": [
    "for m in xrange(num_epochs):\n",
    "    k0 = x\n",
    "    k1 = sigmoide_and_its_derivative(np.dot(k0, syn0))\n",
    "    k2 = sigmoide_and_its_derivative(np.dot(k1, syn1))\n",
    "    k3 = sigmoide_and_its_derivative(np.dot(k2, syn2))\n",
    "    print k3\n",
    "\n",
    "    #print \"y--------------k3\"\n",
    "    print y\n",
    "    output_error = y - k3    \n",
    "    if (m % 10000) == 0:\n",
    "#         print \"1\"\n",
    "        print \"Error:\" + str(np.mean(np.abs(output_error)))\n",
    "    delta3 = output_error*(sigmoide_and_its_derivative(k3,deriv=True))\n",
    "    output_error2 = delta3.dot(syn2.T)\n",
    "    delta2 = output_error2= delta3*(sigmoide_and_its_derivative(k2,deriv=True))\n",
    "    output_error1 = delta2.dot(syn1.T)\n",
    "    #print \"k1_error\"\n",
    "    #print k1    \n",
    "    delta1 = output_error1 *(sigmoide_and_its_derivative(k1,deriv=True))\n",
    "    syn2 =syn2+ k2.T.dot(delta3)\n",
    "    syn1 =syn1+ k1.T.dot(delta2)\n",
    "    syn0 =syn0+k0.T.dot(delta1)\n",
    "#     print k1.T.dot(delta)\n",
    "#     print k1.T.dot(delta3)\n",
    "#     print k1.T.dot(delta3)\n",
    "\n",
    "        #print \"output:\" +str(k2)\n",
    "        #print \"actual out:\"+str(y)\n",
    "    "
   ]
  },
  {
   "cell_type": "code",
   "execution_count": 93,
   "metadata": {
    "collapsed": false
   },
   "outputs": [],
   "source": [
    "m=\"a\""
   ]
  },
  {
   "cell_type": "code",
   "execution_count": null,
   "metadata": {
    "collapsed": true
   },
   "outputs": [],
   "source": []
  }
 ],
 "metadata": {
  "kernelspec": {
   "display_name": "Python 2",
   "language": "python",
   "name": "python2"
  },
  "language_info": {
   "codemirror_mode": {
    "name": "ipython",
    "version": 2
   },
   "file_extension": ".py",
   "mimetype": "text/x-python",
   "name": "python",
   "nbconvert_exporter": "python",
   "pygments_lexer": "ipython2",
   "version": "2.7.12"
  }
 },
 "nbformat": 4,
 "nbformat_minor": 1
}
