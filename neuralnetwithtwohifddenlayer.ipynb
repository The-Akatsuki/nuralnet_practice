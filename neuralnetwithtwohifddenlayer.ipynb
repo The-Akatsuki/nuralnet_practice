{
 "cells": [
  {
   "cell_type": "code",
   "execution_count": 1,
   "metadata": {
    "collapsed": true
   },
   "outputs": [],
   "source": [
    "import numpy as np"
   ]
  },
  {
   "cell_type": "code",
   "execution_count": 2,
   "metadata": {
    "collapsed": true
   },
   "outputs": [],
   "source": [
    "# Step 1 Collect Data\n",
    "x = np.array([[0,0,1],\n",
    "            [0,1,1],\n",
    "            [1,0,1],\n",
    "            [1,1,1]])\n",
    "                \n",
    "y = np.array([[0],\n",
    "            [1],\n",
    "            [1],\n",
    "            [0]])\n"
   ]
  },
  {
   "cell_type": "code",
   "execution_count": 3,
   "metadata": {
    "collapsed": false
   },
   "outputs": [
    {
     "name": "stdout",
     "output_type": "stream",
     "text": [
      "random weights\n",
      "[[-0.81042316 -0.47477284  0.39209894  0.07381084]\n",
      " [-0.13740985  0.90466406 -0.86425758  0.74624023]\n",
      " [-0.92583022  0.70332531 -0.64254583 -0.12201188]] [[-0.74398006  0.70207833  0.60951754 -0.88663788]\n",
      " [-0.9175417   0.58939509  0.97052579 -0.27072001]\n",
      " [ 0.38486648 -0.09985252  0.14652786  0.40068452]\n",
      " [ 0.2961405  -0.30146541 -0.84568026  0.36691002]] [[ 0.21019834]\n",
      " [-0.7556301 ]\n",
      " [-0.25670869]\n",
      " [ 0.71006477]]\n"
     ]
    }
   ],
   "source": [
    "#Step 2 build model\n",
    "\n",
    "num_epochs = 60000\n",
    "\n",
    "#initialize weights\n",
    "syn0 = 2*np.random.random((3,4)) - 1\n",
    "syn1 = 2*np.random.random((4,4)) - 1\n",
    "syn2 = 2*np.random.random((4,1)) - 1\n",
    "print \"random weights\"\n",
    "print syn0,syn1,syn2"
   ]
  },
  {
   "cell_type": "code",
   "execution_count": 4,
   "metadata": {
    "collapsed": true
   },
   "outputs": [],
   "source": [
    "def sigmoide_and_its_derivative(x,deriv=False):\n",
    "    if(deriv==True):\n",
    "        return x*(1-x)\n",
    "    return 1/(1+np.exp(-x))"
   ]
  },
  {
   "cell_type": "code",
   "execution_count": 6,
   "metadata": {
    "collapsed": false
   },
   "outputs": [
    {
     "name": "stdout",
     "output_type": "stream",
     "text": [
      "Error:0.253226663091\n"
     ]
    },
    {
     "ename": "ValueError",
     "evalue": "operands could not be broadcast together with shapes (3,4) (4,4) ",
     "output_type": "error",
     "traceback": [
      "\u001b[1;31m---------------------------------------------------------------------------\u001b[0m",
      "\u001b[1;31mValueError\u001b[0m                                Traceback (most recent call last)",
      "\u001b[1;32m<ipython-input-6-0cf5c420eabb>\u001b[0m in \u001b[0;36m<module>\u001b[1;34m()\u001b[0m\n\u001b[0;32m     19\u001b[0m     \u001b[0msyn2\u001b[0m \u001b[1;33m=\u001b[0m\u001b[0msyn2\u001b[0m\u001b[1;33m+\u001b[0m \u001b[0mk3\u001b[0m\u001b[1;33m.\u001b[0m\u001b[0mT\u001b[0m\u001b[1;33m.\u001b[0m\u001b[0mdot\u001b[0m\u001b[1;33m(\u001b[0m\u001b[0mdelta3\u001b[0m\u001b[1;33m)\u001b[0m\u001b[1;33m\u001b[0m\u001b[0m\n\u001b[0;32m     20\u001b[0m     \u001b[0msyn1\u001b[0m \u001b[1;33m=\u001b[0m\u001b[0msyn1\u001b[0m\u001b[1;33m+\u001b[0m \u001b[0mk2\u001b[0m\u001b[1;33m.\u001b[0m\u001b[0mT\u001b[0m\u001b[1;33m.\u001b[0m\u001b[0mdot\u001b[0m\u001b[1;33m(\u001b[0m\u001b[0mdelta2\u001b[0m\u001b[1;33m)\u001b[0m\u001b[1;33m\u001b[0m\u001b[0m\n\u001b[1;32m---> 21\u001b[1;33m     \u001b[0msyn0\u001b[0m \u001b[1;33m=\u001b[0m\u001b[0msyn0\u001b[0m\u001b[1;33m+\u001b[0m \u001b[0mk1\u001b[0m\u001b[1;33m.\u001b[0m\u001b[0mT\u001b[0m\u001b[1;33m.\u001b[0m\u001b[0mdot\u001b[0m\u001b[1;33m(\u001b[0m\u001b[0mdelta1\u001b[0m\u001b[1;33m)\u001b[0m\u001b[1;33m\u001b[0m\u001b[0m\n\u001b[0m\u001b[0;32m     22\u001b[0m \u001b[1;31m#     print k1.T.dot(delta)\u001b[0m\u001b[1;33m\u001b[0m\u001b[1;33m\u001b[0m\u001b[0m\n\u001b[0;32m     23\u001b[0m \u001b[1;31m#     print k1.T.dot(delta3)\u001b[0m\u001b[1;33m\u001b[0m\u001b[1;33m\u001b[0m\u001b[0m\n",
      "\u001b[1;31mValueError\u001b[0m: operands could not be broadcast together with shapes (3,4) (4,4) "
     ]
    }
   ],
   "source": [
    "for m in xrange(num_epochs):\n",
    "    k0 = x\n",
    "    k1 = sigmoide_and_its_derivative(np.dot(k0, syn0))\n",
    "    k2 = sigmoide_and_its_derivative(np.dot(k1, syn1))\n",
    "    k3 = sigmoide_and_its_derivative(np.dot(k2, syn2))\n",
    "    \n",
    "    #print \"y--------------k3\"\n",
    "    #print k3\n",
    "    output_error = y-k3\n",
    "    if (m% 10000) == 0:\n",
    "        print \"Error:\" + str(np.mean(np.abs(output_error)))\n",
    "    delta3 = output_error*(sigmoide_and_its_derivative(k3,deriv=True))\n",
    "    output_error2 = delta3.dot(syn2.T)\n",
    "    delta2 = output_error2= delta3*(sigmoide_and_its_derivative(k2,deriv=True))\n",
    "    output_error1 = delta2.dot(syn1.T)\n",
    "    #print \"k1_error\"\n",
    "    #print k1    \n",
    "    delta1 = output_error1 *(sigmoide_and_its_derivative(k1,deriv=True))\n",
    "    syn2 =syn2+ k3.T.dot(delta3)\n",
    "    syn1 =syn1+ k2.T.dot(delta2)\n",
    "    syn0 =syn0+ k1.T.dot(delta1)\n",
    "#     print k1.T.dot(delta)\n",
    "#     print k1.T.dot(delta3)\n",
    "#     print k1.T.dot(delta3)\n",
    "\n",
    "        #print \"output:\" +str(k2)\n",
    "        #print \"actual out:\"+str(y)\n",
    "    "
   ]
  },
  {
   "cell_type": "code",
   "execution_count": null,
   "metadata": {
    "collapsed": true
   },
   "outputs": [],
   "source": []
  }
 ],
 "metadata": {
  "kernelspec": {
   "display_name": "Python 2",
   "language": "python",
   "name": "python2"
  },
  "language_info": {
   "codemirror_mode": {
    "name": "ipython",
    "version": 2
   },
   "file_extension": ".py",
   "mimetype": "text/x-python",
   "name": "python",
   "nbconvert_exporter": "python",
   "pygments_lexer": "ipython2",
   "version": "2.7.12"
  }
 },
 "nbformat": 4,
 "nbformat_minor": 1
}
